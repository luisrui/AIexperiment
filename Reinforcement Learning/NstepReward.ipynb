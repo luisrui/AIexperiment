{
 "cells": [
  {
   "attachments": {},
   "cell_type": "markdown",
   "metadata": {},
   "source": [
    "# N步时序差分方法在21点纸牌游戏上的应用（Black Jack Games）\n",
    "\n",
    "参考了openAI开源GYM框架，对于这个游戏的环境进行python重构"
   ]
  },
  {
   "cell_type": "code",
   "execution_count": 1,
   "metadata": {},
   "outputs": [],
   "source": [
    "import random\n",
    "import numpy as np\n",
    "import pandas as pd\n",
    "from collections import defaultdict"
   ]
  },
  {
   "cell_type": "code",
   "execution_count": 2,
   "metadata": {},
   "outputs": [],
   "source": [
    "class card:#Define a card class with card value function in 21-points game\n",
    "    names = ['A', '2', '3', '4', '5', '6', '7', '8', '9', '10', 'J', 'Q', 'K']\n",
    "    def __init__(self, card_name:str):\n",
    "        self.name = card_name\n",
    "        self.value = self.map_value(card_name)\n",
    "    \n",
    "    def map_value(self, card_name:str):\n",
    "        if card_name == 'A':\n",
    "            return 1\n",
    "        elif card_name in ['J', 'Q', 'K']:\n",
    "            return 10\n",
    "        else:\n",
    "            return int(card_name)\n",
    "\n",
    "class cards(card):#Define a card library function with draw card function\n",
    "    \n",
    "    def __init__(self):\n",
    "        self.remain_cards = self.names * 4\n",
    "\n",
    "    def draw_card(self)->card:\n",
    "        random.shuffle(self.remain_cards)\n",
    "        picked_card = card(self.remain_cards[0])\n",
    "        self.remain_cards.pop(0)\n",
    "        return picked_card\n",
    "\n",
    "def hand_value(hand:list)->int:\n",
    "    values = [card.value for card in hand]\n",
    "    names = [card.name for card in hand]\n",
    "    total = sum(values)\n",
    "    if 'A' in names and total <= 11:\n",
    "        total += 10\n",
    "    return total"
   ]
  },
  {
   "cell_type": "code",
   "execution_count": 3,
   "metadata": {},
   "outputs": [],
   "source": [
    "class BlackJackEnv():\n",
    "    \n",
    "    def __init__(self):\n",
    "        self.deck = cards()\n",
    "        self.player = list()\n",
    "        self.dealer = list()\n",
    "        for i in range(2):#Each player receive 2 cards initially\n",
    "            self.player.append(self.deck.draw_card())\n",
    "            self.dealer.append(self.deck.draw_card())\n",
    "        self.dealer_shown = self.dealer[-1].value\n",
    "\n",
    "    def step(self, action):\n",
    "        if action == 'hit':\n",
    "            self.player.append(self.deck.draw_card())\n",
    "            if hand_value(self.player) > 21:\n",
    "                reward = -1\n",
    "                done = True\n",
    "            # elif \n",
    "            else:\n",
    "                reward = 0\n",
    "                done = False\n",
    "        if action == 'stay':\n",
    "            done = True\n",
    "            while hand_value(self.player) < 17:\n",
    "                self.dealer.append(self.deck.draw_card())\n",
    "            player_value = hand_value(self.player)\n",
    "            dealer_value = hand_value(self.dealer)\n",
    "            if dealer_value > 21:\n",
    "                reward = 1\n",
    "            # elif hand_value(self.dealer) == 21 and len(self.dealer) == 2: # Black Jack Situation\n",
    "            #     reward = -1.5 if self.natural else 0.5\n",
    "            else:\n",
    "                if player_value > dealer_value:\n",
    "                    reward = 1\n",
    "                elif player_value == dealer_value:\n",
    "                    reward = 0\n",
    "                else:\n",
    "                    reward = -1\n",
    "        hand_names = [card.name for card in self.player]\n",
    "        player_ace = True if 'A' in hand_names else False\n",
    "        next_state = (hand_value(self.player), self.dealer_shown, player_ace)\n",
    "        \n",
    "        return next_state, reward, done\n",
    "    \n",
    "    def reset(self):\n",
    "        self.deck = cards()\n",
    "        self.player = list()\n",
    "        self.dealer = list()\n",
    "        for i in range(2):#Each player receive 2 cards initially\n",
    "            self.player.append(self.deck.draw_card())\n",
    "            self.dealer.append(self.deck.draw_card())\n",
    "        player_value = hand_value(self.player)\n",
    "        self.dealer_shown = self.dealer[-1].value\n",
    "        hand_names = [card.name for card in self.player]\n",
    "        player_ace = True if 'A' in hand_names else False\n",
    "        return (player_value, self.dealer_shown, player_ace)\n",
    "        "
   ]
  },
  {
   "cell_type": "code",
   "execution_count": 4,
   "metadata": {},
   "outputs": [],
   "source": [
    "actions=dict({0 : 'stay', 1 : 'hit'})\n",
    "class Sarsa:#Learn a policy from Sarsa \n",
    "    def __init__(self, arg_dict):\n",
    "        self.sample_count = 0\n",
    "        self.n_actions = arg_dict['n_actions']\n",
    "        self.lr = arg_dict['lr']\n",
    "        self.gamma = arg_dict['gamma']\n",
    "        self.epsilon = arg_dict['epsilon']\n",
    "        self.Q_table = defaultdict(lambda: np.zeros(self.n_actions))\n",
    "    \n",
    "    def sample_action(self, state): #e-greedy algorithm\n",
    "        self.sample_count += 1\n",
    "        return np.argmax(self.Q_table[state]) \\\n",
    "            if np.random.uniform(0, 1) > self.epsilon \\\n",
    "            else np.random.choice(self.n_actions)\n",
    "\n",
    "    def predict_action(self, state):\n",
    "        return np.argmax(self.Q_table[str(state)])\n",
    "    \n",
    "    def update(self, state, action, reward, next_state, next_action, done):\n",
    "        Q_predict = self.Q_table[state][action]\n",
    "        if done:\n",
    "            Q_target = reward\n",
    "        else:\n",
    "            Q_target = reward + self.gamma * \\\n",
    "                self.Q_table[next_state][next_action]\n",
    "        #Sarsa 核心的更新函数\n",
    "        self.Q_table[state][action] += self.lr * (Q_target - Q_predict)\n",
    "\n",
    "def train(arg_dict:dict, env:BlackJackEnv, agent:Sarsa):\n",
    "    rewards = []\n",
    "    steps = []\n",
    "    for epoch in range(arg_dict['train_epochs']):\n",
    "        ep_reward = 0 # 记录积累的奖励\n",
    "        ep_step = 0 # 记录总步数\n",
    "        state = env.reset()\n",
    "        action = agent.sample_action(state)\n",
    "        while True:\n",
    "            next_state, reward, done = env.step(action)\n",
    "            next_action = agent.sample_action(next_state)\n",
    "            agent.update(state, action, reward, next_state, next_action, done)\n",
    "            state = next_state\n",
    "            action = next_action\n",
    "            ep_reward += reward\n",
    "            ep_step += 1\n",
    "            if done:\n",
    "                break\n",
    "        rewards.append(ep_reward)\n",
    "        steps.append(ep_step)\n",
    "        if (epoch + 1) % 10 == 0:\n",
    "            print( f'Epoch: {epoch + 1}/{arg_dict[\"train_epochs\"]}, Reward: {ep_reward:.2f}, Steps:{ep_step}, Epislon: {agent.epsilon:.3f}')\n",
    "    return {'episodes': range(len(rewards)), 'rewards': rewards, 'steps': steps}\n",
    "    "
   ]
  },
  {
   "cell_type": "code",
   "execution_count": 5,
   "metadata": {},
   "outputs": [],
   "source": [
    "class NstepTD:\n",
    "    def __init__(self, n, alpha, gamma):\n",
    "        self.n = n\n",
    "        self.alpha = alpha\n",
    "        self.gamma = gamma\n",
    "        self.V = defaultdict(lambda : 0)\n",
    "    \n",
    "    def policy(self, hand:list):\n",
    "        if hand_value(hand) < 17:\n",
    "            return 'hit'\n",
    "        else:\n",
    "            return 'stay'\n",
    "    \n",
    "    def learn(self, episode:int, env:BlackJackEnv):\n",
    "        state = env.reset()\n",
    "        rewards = np.zeros(10)\n",
    "        states = [0] * 10\n",
    "        states[0] = state\n",
    "        T = 10000\n",
    "        t = 0\n",
    "        while True:\n",
    "            if t < T:\n",
    "                action = self.policy(env.player)\n",
    "                next_state, reward, done = env.step(action)\n",
    "                if hand_value(env.player) == 2:\n",
    "                    print('Error:')\n",
    "                    for card in env.player:\n",
    "                        print(card.name, end='.')\n",
    "                rewards[t+1] = reward\n",
    "                states[t+1] = next_state\n",
    "                if done:\n",
    "                    T = t + 1\n",
    "            dt = t - self.n + 1\n",
    "            if dt == T - 1:\n",
    "                break\n",
    "            if dt >= 0:\n",
    "                G = np.sum([self.gamma ** (i - dt - 1) * rewards[i] for i in range(dt + 1, min(dt + self.n, T) + 1)])\n",
    "                if dt + self.n < T:\n",
    "                    G = G + self.gamma ** self.n * self.V[states[dt + self.n]]\n",
    "                self.V[states[dt]] = self.V[states[dt]] + self.alpha * (G - self.V[states[dt]])\n",
    "            t += 1"
   ]
  },
  {
   "attachments": {},
   "cell_type": "markdown",
   "metadata": {},
   "source": [
    "### 考虑了玩家手里牌的点数，庄家的明牌和玩家手里是否有A, 一共有280种状态"
   ]
  },
  {
   "attachments": {},
   "cell_type": "markdown",
   "metadata": {},
   "source": [
    "### 时序误差差分之和来替代先前的误差项"
   ]
  },
  {
   "cell_type": "code",
   "execution_count": 6,
   "metadata": {},
   "outputs": [],
   "source": [
    "class NstepTD_changed:\n",
    "    def __init__(self, n, alpha, gamma):\n",
    "        self.n = n\n",
    "        self.alpha = alpha\n",
    "        self.gamma = gamma\n",
    "        self.V = defaultdict(lambda : 0)\n",
    "    \n",
    "    def policy(self, hand:list):\n",
    "        if hand_value(hand) < 17:\n",
    "            return 'hit'\n",
    "        else:\n",
    "            return 'stay'\n",
    "    \n",
    "    def learn(self, episode:int, env:BlackJackEnv):\n",
    "        state = env.reset()\n",
    "        rewards = np.zeros(10)\n",
    "        states = [0] * 10\n",
    "        states[0] = state\n",
    "        T = 10000\n",
    "        t = 0\n",
    "        while True:\n",
    "            if t < T:\n",
    "                action = self.policy(env.player)\n",
    "                next_state, reward, done = env.step(action)\n",
    "                if hand_value(env.player) == 2:\n",
    "                    print('Error:')\n",
    "                    for card in env.player:\n",
    "                        print(card.name, end='.')\n",
    "                rewards[t+1] = reward\n",
    "                states[t+1] = next_state\n",
    "                if done:\n",
    "                    T = t + 1\n",
    "            dt = t - self.n + 1\n",
    "            if dt == T - 1:\n",
    "                break\n",
    "            if dt >= 0:\n",
    "                #G = np.sum([self.gamma ** (i - dt - 1) * rewards[i] for i in range(dt + 1, min(dt + self.n, T) + 1)])\n",
    "                ###修改G，使得每次增加的不是reward而是时序差分误差\n",
    "                G = np.sum([self.gamma ** (i - dt - 1) * (rewards[i] - self.V[states[i]] + self.gamma * self.V[states[i + 1]]) for i in range(dt + 1, min(dt + self.n, T) + 1)])\n",
    "                if dt + self.n < T:\n",
    "                    G = G + self.gamma ** self.n * self.V[states[dt + self.n]]\n",
    "                self.V[states[dt]] = self.V[states[dt]] + self.alpha * (G - self.V[states[dt]])\n",
    "            t += 1"
   ]
  },
  {
   "cell_type": "code",
   "execution_count": 7,
   "metadata": {},
   "outputs": [
    {
     "data": {
      "text/plain": [
       "280"
      ]
     },
     "execution_count": 7,
     "metadata": {},
     "output_type": "execute_result"
    }
   ],
   "source": [
    "agent = NstepTD(n=2, alpha=0.01, gamma=0.9)\n",
    "env = BlackJackEnv()\n",
    "for episode in range(500000):\n",
    "    agent.learn(episode, env)\n",
    "len(agent.V)"
   ]
  },
  {
   "cell_type": "code",
   "execution_count": 10,
   "metadata": {},
   "outputs": [],
   "source": [
    "Baseline = agent.V"
   ]
  },
  {
   "cell_type": "code",
   "execution_count": 40,
   "metadata": {},
   "outputs": [],
   "source": [
    "import matplotlib.pyplot as plt\n",
    "\n",
    "alphas = [0, 0.1,0.2, 0.3, 0.4, 0.5, 0.6, 0.7, 0.8]\n",
    "normal_e = list()\n",
    "changed_e = list()\n",
    "for alpha in alphas:\n",
    "    errors = 0\n",
    "    for i in range(100):\n",
    "        agent = NstepTD(n=3, alpha=alpha, gamma=0.9)\n",
    "        env = BlackJackEnv()\n",
    "        for episode in range(100):\n",
    "            agent.learn(episode, env)\n",
    "            if episode > 90:\n",
    "                error = 0\n",
    "                for state in Baseline.keys():\n",
    "                    error += (agent.V[state] - Baseline[state]) ** 2\n",
    "                error /= len(Baseline)\n",
    "                error = np.sqrt(error)\n",
    "                errors += error\n",
    "    normal_e.append(errors / 100)\n",
    "\n",
    "    errors = 0\n",
    "    for i in range(100):\n",
    "        agent_new = NstepTD_changed(n=3, alpha=alpha, gamma=0.9)\n",
    "        env = BlackJackEnv()\n",
    "        for episode in range(100):\n",
    "            agent_new.learn(episode, env)\n",
    "            if episode > 90:\n",
    "                error = 0\n",
    "                for state in Baseline.keys():\n",
    "                    error += (agent_new.V[state] - Baseline[state]) ** 2\n",
    "                error /= len(Baseline)\n",
    "                error = np.sqrt(error)\n",
    "                errors += error\n",
    "    changed_e.append(errors / 100)"
   ]
  },
  {
   "cell_type": "code",
   "execution_count": 41,
   "metadata": {},
   "outputs": [
    {
     "data": {
      "text/plain": [
       "<matplotlib.legend.Legend at 0x200c977a8b0>"
      ]
     },
     "execution_count": 41,
     "metadata": {},
     "output_type": "execute_result"
    },
    {
     "data": {
      "image/png": "[encoded data removed]",
      "text/plain": [
       "<Figure size 432x288 with 1 Axes>"
      ]
     },
     "metadata": {
      "needs_background": "light"
     },
     "output_type": "display_data"
    }
   ],
   "source": [
    "plt.plot(alphas, normal_e, label='normal error')\n",
    "plt.plot(alphas, changed_e, label='changed error')\n",
    "plt.xlabel('alpha')\n",
    "plt.ylabel('RMS error')\n",
    "plt.legend()"
   ]
  },
  {
   "attachments": {},
   "cell_type": "markdown",
   "metadata": {},
   "source": [
    "### 明显看到在多幕学习之后，修改后的算法误差损失明显比修改前的要差"
   ]
  }
 ],
 "metadata": {
  "kernelspec": {
   "display_name": "base",
   "language": "python",
   "name": "python3"
  },
  "language_info": {
   "codemirror_mode": {
    "name": "ipython",
    "version": 3
   },
   "file_extension": ".py",
   "mimetype": "text/x-python",
   "name": "python",
   "nbconvert_exporter": "python",
   "pygments_lexer": "ipython3",
   "version": "3.8.8"
  },
  "orig_nbformat": 4
 },
 "nbformat": 4,
 "nbformat_minor": 2
}
